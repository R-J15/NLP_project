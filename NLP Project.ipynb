{
 "cells": [
  {
   "cell_type": "markdown",
   "id": "38759859",
   "metadata": {},
   "source": [
    "# Sprint 1"
   ]
  },
  {
   "cell_type": "code",
   "execution_count": 1,
   "id": "7e5ab28e",
   "metadata": {},
   "outputs": [],
   "source": [
    "#Import the libraries\n",
    "\n",
    "import numpy as np\n",
    "import pandas as pd\n",
    "import matplotlib.pyplot as plt\n",
    "import seaborn as sns\n",
    "import random"
   ]
  },
  {
   "cell_type": "code",
   "execution_count": 2,
   "id": "a8756fbb",
   "metadata": {},
   "outputs": [],
   "source": [
    "import random\n",
    "import re"
   ]
  },
  {
   "cell_type": "code",
   "execution_count": 44,
   "id": "037678b2",
   "metadata": {},
   "outputs": [],
   "source": [
    "# load doc into memory\n",
    "def load_doc(filename):\n",
    "    # open the file as read only\n",
    "    file = open(filename, 'r')\n",
    "    # read all text\n",
    "    text = file.read()\n",
    "    # close the file\n",
    "    file.close()\n",
    "    return text\n"
   ]
  },
  {
   "cell_type": "code",
   "execution_count": 45,
   "id": "56d3ed5c",
   "metadata": {},
   "outputs": [],
   "source": [
    "import tqdm"
   ]
  },
  {
   "cell_type": "code",
   "execution_count": 46,
   "id": "4aa6f5ef",
   "metadata": {},
   "outputs": [
    {
     "name": "stderr",
     "output_type": "stream",
     "text": [
      "100%|██████████████████████████████████████████████████████████████████████████████| 9999/9999 [08:29<00:00, 19.63it/s]\n"
     ]
    }
   ],
   "source": [
    "l=[]\n",
    "for i in tqdm.tqdm(range(1,10000)):\n",
    "    filename = 'C:/Users/INDIA/Desktop/txt_reviews/review_{}.txt'.format(i)\n",
    "    text=load_doc(filename)\n",
    "    #tokens = clean_doc(text)\n",
    "    #print(tokens)\n",
    "    l.append(text)\n",
    "#l.append(text)\n"
   ]
  },
  {
   "cell_type": "code",
   "execution_count": 74,
   "id": "dc728058",
   "metadata": {},
   "outputs": [],
   "source": [
    "#'\\n'.join(l[0])"
   ]
  },
  {
   "cell_type": "code",
   "execution_count": 47,
   "id": "2bb7496d",
   "metadata": {},
   "outputs": [
    {
     "data": {
      "text/plain": [
       "['ProductId: B00813GRG4',\n",
       " 'UserId: A1D87F6ZCVE5NK',\n",
       " 'ProfileName: dll pa',\n",
       " 'HelpfulnessNumerator: 0',\n",
       " 'HelpfulnessDenominator: 0',\n",
       " 'Score: 1',\n",
       " 'Time: 1346976000',\n",
       " 'ReviewSummary: Not as Advertised',\n",
       " 'ReviewText: Product arrived labeled as Jumbo Salted Peanuts...the peanuts were actually small sized unsalted. Not sure if this was an error or if the vendor intended to represent the product as \"Jumbo\".',\n",
       " '']"
      ]
     },
     "execution_count": 47,
     "metadata": {},
     "output_type": "execute_result"
    }
   ],
   "source": [
    "l[1].split('\\n')"
   ]
  },
  {
   "cell_type": "code",
   "execution_count": 48,
   "id": "92b29058",
   "metadata": {},
   "outputs": [],
   "source": [
    "for i in range(0,len(l)):\n",
    "    #a='\\n'.join(l[i])\n",
    "    l[i]=l[i].split('\\n')"
   ]
  },
  {
   "cell_type": "code",
   "execution_count": 49,
   "id": "201de003",
   "metadata": {},
   "outputs": [
    {
     "data": {
      "text/plain": [
       "['ProductId: B000LQOCH0',\n",
       " 'UserId: ABXLMWJIXXAIN',\n",
       " 'ProfileName: Natalia Corres \"Natalia Corres\"',\n",
       " 'HelpfulnessNumerator: 1',\n",
       " 'HelpfulnessDenominator: 1',\n",
       " 'Score: 4',\n",
       " 'Time: 1219017600',\n",
       " 'ReviewSummary: \"Delight\" says it all',\n",
       " 'ReviewText: This is a confection that has been around a few centuries.  It is a light, pillowy citrus gelatin with nuts - in this case Filberts. And it is cut into tiny squares and then liberally coated with powdered sugar.  And it is a tiny mouthful of heaven.  Not too chewy, and very flavorful.  I highly recommend this yummy treat.  If you are familiar with the story of C.S. Lewis\\' \"The Lion, The Witch, and The Wardrobe\" - this is the treat that seduces Edmund into selling out his Brother and Sisters to the Witch.',\n",
       " '']"
      ]
     },
     "execution_count": 49,
     "metadata": {},
     "output_type": "execute_result"
    }
   ],
   "source": [
    "l[2]"
   ]
  },
  {
   "cell_type": "code",
   "execution_count": 50,
   "id": "af4e936b",
   "metadata": {},
   "outputs": [
    {
     "data": {
      "text/plain": [
       "'ProductId: B001E4KFG0'"
      ]
     },
     "execution_count": 50,
     "metadata": {},
     "output_type": "execute_result"
    }
   ],
   "source": [
    "l[0][0]"
   ]
  },
  {
   "cell_type": "code",
   "execution_count": 51,
   "id": "9ef67c99",
   "metadata": {},
   "outputs": [],
   "source": [
    "p_i=[]\n",
    "u_i=[]\n",
    "p_n=[]\n",
    "h_n=[]\n",
    "h_d=[]\n",
    "s=[]\n",
    "t=[]\n",
    "r_s=[]\n",
    "r_t=[]\n",
    "for i in range(0,len(l)):\n",
    "    p_i.append(l[i][0])\n",
    "    #print(p_i)\n",
    "    u_i.append(l[i][1])\n",
    "    p_n.append(l[i][2])\n",
    "    h_n.append(l[i][3])\n",
    "    h_d.append(l[i][4])\n",
    "    s.append(l[i][5])\n",
    "    t.append(l[i][6])\n",
    "    r_s.append(l[i][7])\n",
    "    r_t.append(l[i][8])\n",
    "    \n",
    "    "
   ]
  },
  {
   "cell_type": "code",
   "execution_count": 52,
   "id": "e44eddb9",
   "metadata": {},
   "outputs": [],
   "source": [
    "df=pd.DataFrame({'ProductId':p_i,'User_id':u_i,'ProfileName':p_n,\"HelpfulnessNumerator\":h_n,\"HelpfulnessDenominator\":h_d,\"Score\":s,\"Time\":t,\"ReviewSummary\":r_s,\"ReviewText\":r_t})"
   ]
  },
  {
   "cell_type": "code",
   "execution_count": 53,
   "id": "3440622a",
   "metadata": {},
   "outputs": [
    {
     "data": {
      "text/html": [
       "<div>\n",
       "<style scoped>\n",
       "    .dataframe tbody tr th:only-of-type {\n",
       "        vertical-align: middle;\n",
       "    }\n",
       "\n",
       "    .dataframe tbody tr th {\n",
       "        vertical-align: top;\n",
       "    }\n",
       "\n",
       "    .dataframe thead th {\n",
       "        text-align: right;\n",
       "    }\n",
       "</style>\n",
       "<table border=\"1\" class=\"dataframe\">\n",
       "  <thead>\n",
       "    <tr style=\"text-align: right;\">\n",
       "      <th></th>\n",
       "      <th>ProductId</th>\n",
       "      <th>User_id</th>\n",
       "      <th>ProfileName</th>\n",
       "      <th>HelpfulnessNumerator</th>\n",
       "      <th>HelpfulnessDenominator</th>\n",
       "      <th>Score</th>\n",
       "      <th>Time</th>\n",
       "      <th>ReviewSummary</th>\n",
       "      <th>ReviewText</th>\n",
       "    </tr>\n",
       "  </thead>\n",
       "  <tbody>\n",
       "    <tr>\n",
       "      <th>0</th>\n",
       "      <td>ProductId: B001E4KFG0</td>\n",
       "      <td>UserId: A3SGXH7AUHU8GW</td>\n",
       "      <td>ProfileName: delmartian</td>\n",
       "      <td>HelpfulnessNumerator: 1</td>\n",
       "      <td>HelpfulnessDenominator: 1</td>\n",
       "      <td>Score: 5</td>\n",
       "      <td>Time: 1303862400</td>\n",
       "      <td>ReviewSummary: Good Quality Dog Food</td>\n",
       "      <td>ReviewText: I have bought several of the Vital...</td>\n",
       "    </tr>\n",
       "    <tr>\n",
       "      <th>1</th>\n",
       "      <td>ProductId: B00813GRG4</td>\n",
       "      <td>UserId: A1D87F6ZCVE5NK</td>\n",
       "      <td>ProfileName: dll pa</td>\n",
       "      <td>HelpfulnessNumerator: 0</td>\n",
       "      <td>HelpfulnessDenominator: 0</td>\n",
       "      <td>Score: 1</td>\n",
       "      <td>Time: 1346976000</td>\n",
       "      <td>ReviewSummary: Not as Advertised</td>\n",
       "      <td>ReviewText: Product arrived labeled as Jumbo S...</td>\n",
       "    </tr>\n",
       "    <tr>\n",
       "      <th>2</th>\n",
       "      <td>ProductId: B000LQOCH0</td>\n",
       "      <td>UserId: ABXLMWJIXXAIN</td>\n",
       "      <td>ProfileName: Natalia Corres \"Natalia Corres\"</td>\n",
       "      <td>HelpfulnessNumerator: 1</td>\n",
       "      <td>HelpfulnessDenominator: 1</td>\n",
       "      <td>Score: 4</td>\n",
       "      <td>Time: 1219017600</td>\n",
       "      <td>ReviewSummary: \"Delight\" says it all</td>\n",
       "      <td>ReviewText: This is a confection that has been...</td>\n",
       "    </tr>\n",
       "    <tr>\n",
       "      <th>3</th>\n",
       "      <td>ProductId: B000UA0QIQ</td>\n",
       "      <td>UserId: A395BORC6FGVXV</td>\n",
       "      <td>ProfileName: Karl</td>\n",
       "      <td>HelpfulnessNumerator: 3</td>\n",
       "      <td>HelpfulnessDenominator: 3</td>\n",
       "      <td>Score: 2</td>\n",
       "      <td>Time: 1307923200</td>\n",
       "      <td>ReviewSummary: Cough Medicine</td>\n",
       "      <td>ReviewText: If you are looking for the secret ...</td>\n",
       "    </tr>\n",
       "    <tr>\n",
       "      <th>4</th>\n",
       "      <td>ProductId: B006K2ZZ7K</td>\n",
       "      <td>UserId: A1UQRSCLF8GW1T</td>\n",
       "      <td>ProfileName: Michael D. Bigham \"M. Wassir\"</td>\n",
       "      <td>HelpfulnessNumerator: 0</td>\n",
       "      <td>HelpfulnessDenominator: 0</td>\n",
       "      <td>Score: 5</td>\n",
       "      <td>Time: 1350777600</td>\n",
       "      <td>ReviewSummary: Great taffy</td>\n",
       "      <td>ReviewText: Great taffy at a great price.  The...</td>\n",
       "    </tr>\n",
       "    <tr>\n",
       "      <th>...</th>\n",
       "      <td>...</td>\n",
       "      <td>...</td>\n",
       "      <td>...</td>\n",
       "      <td>...</td>\n",
       "      <td>...</td>\n",
       "      <td>...</td>\n",
       "      <td>...</td>\n",
       "      <td>...</td>\n",
       "      <td>...</td>\n",
       "    </tr>\n",
       "    <tr>\n",
       "      <th>9994</th>\n",
       "      <td>ProductId: B000P41A28</td>\n",
       "      <td>UserId: A350OL4V8DV5YK</td>\n",
       "      <td>ProfileName: Helen Avramenko</td>\n",
       "      <td>HelpfulnessNumerator: 3</td>\n",
       "      <td>HelpfulnessDenominator: 4</td>\n",
       "      <td>Score: 5</td>\n",
       "      <td>Time: 1259539200</td>\n",
       "      <td>ReviewSummary: great product</td>\n",
       "      <td>ReviewText: I switched from Similac Advanced t...</td>\n",
       "    </tr>\n",
       "    <tr>\n",
       "      <th>9995</th>\n",
       "      <td>ProductId: B000P41A28</td>\n",
       "      <td>UserId: A3A63RACXR1XIL</td>\n",
       "      <td>ProfileName: A. Boodhoo \"deaddodo\"</td>\n",
       "      <td>HelpfulnessNumerator: 10</td>\n",
       "      <td>HelpfulnessDenominator: 15</td>\n",
       "      <td>Score: 1</td>\n",
       "      <td>Time: 1204502400</td>\n",
       "      <td>ReviewSummary: constipation</td>\n",
       "      <td>ReviewText: we switched from the advance simil...</td>\n",
       "    </tr>\n",
       "    <tr>\n",
       "      <th>9996</th>\n",
       "      <td>ProductId: B000P41A28</td>\n",
       "      <td>UserId: A5VVRGL8JA7R</td>\n",
       "      <td>ProfileName: Adam</td>\n",
       "      <td>HelpfulnessNumerator: 2</td>\n",
       "      <td>HelpfulnessDenominator: 3</td>\n",
       "      <td>Score: 5</td>\n",
       "      <td>Time: 1306368000</td>\n",
       "      <td>ReviewSummary: Constipation Not A Problem if...</td>\n",
       "      <td>ReviewText: Like the bad reviews say, the orga...</td>\n",
       "    </tr>\n",
       "    <tr>\n",
       "      <th>9997</th>\n",
       "      <td>ProductId: B000P41A28</td>\n",
       "      <td>UserId: A2TGDTJ8YCU6PD</td>\n",
       "      <td>ProfileName: geena77</td>\n",
       "      <td>HelpfulnessNumerator: 0</td>\n",
       "      <td>HelpfulnessDenominator: 0</td>\n",
       "      <td>Score: 5</td>\n",
       "      <td>Time: 1347494400</td>\n",
       "      <td>ReviewSummary: Love this formula!</td>\n",
       "      <td>ReviewText: I wanted to solely breastfeed but ...</td>\n",
       "    </tr>\n",
       "    <tr>\n",
       "      <th>9998</th>\n",
       "      <td>ProductId: B000P41A28</td>\n",
       "      <td>UserId: AUV4GIZZE693O</td>\n",
       "      <td>ProfileName: Susan Coe \"sueysis\"</td>\n",
       "      <td>HelpfulnessNumerator: 1</td>\n",
       "      <td>HelpfulnessDenominator: 2</td>\n",
       "      <td>Score: 5</td>\n",
       "      <td>Time: 1203638400</td>\n",
       "      <td>ReviewSummary: very convenient</td>\n",
       "      <td>ReviewText: i love the fact that i can get thi...</td>\n",
       "    </tr>\n",
       "  </tbody>\n",
       "</table>\n",
       "<p>9999 rows × 9 columns</p>\n",
       "</div>"
      ],
      "text/plain": [
       "                  ProductId                 User_id  \\\n",
       "0     ProductId: B001E4KFG0  UserId: A3SGXH7AUHU8GW   \n",
       "1     ProductId: B00813GRG4  UserId: A1D87F6ZCVE5NK   \n",
       "2     ProductId: B000LQOCH0   UserId: ABXLMWJIXXAIN   \n",
       "3     ProductId: B000UA0QIQ  UserId: A395BORC6FGVXV   \n",
       "4     ProductId: B006K2ZZ7K  UserId: A1UQRSCLF8GW1T   \n",
       "...                     ...                     ...   \n",
       "9994  ProductId: B000P41A28  UserId: A350OL4V8DV5YK   \n",
       "9995  ProductId: B000P41A28  UserId: A3A63RACXR1XIL   \n",
       "9996  ProductId: B000P41A28    UserId: A5VVRGL8JA7R   \n",
       "9997  ProductId: B000P41A28  UserId: A2TGDTJ8YCU6PD   \n",
       "9998  ProductId: B000P41A28   UserId: AUV4GIZZE693O   \n",
       "\n",
       "                                       ProfileName      HelpfulnessNumerator  \\\n",
       "0                          ProfileName: delmartian   HelpfulnessNumerator: 1   \n",
       "1                              ProfileName: dll pa   HelpfulnessNumerator: 0   \n",
       "2     ProfileName: Natalia Corres \"Natalia Corres\"   HelpfulnessNumerator: 1   \n",
       "3                                ProfileName: Karl   HelpfulnessNumerator: 3   \n",
       "4       ProfileName: Michael D. Bigham \"M. Wassir\"   HelpfulnessNumerator: 0   \n",
       "...                                            ...                       ...   \n",
       "9994                  ProfileName: Helen Avramenko   HelpfulnessNumerator: 3   \n",
       "9995            ProfileName: A. Boodhoo \"deaddodo\"  HelpfulnessNumerator: 10   \n",
       "9996                             ProfileName: Adam   HelpfulnessNumerator: 2   \n",
       "9997                          ProfileName: geena77   HelpfulnessNumerator: 0   \n",
       "9998              ProfileName: Susan Coe \"sueysis\"   HelpfulnessNumerator: 1   \n",
       "\n",
       "          HelpfulnessDenominator     Score              Time  \\\n",
       "0      HelpfulnessDenominator: 1  Score: 5  Time: 1303862400   \n",
       "1      HelpfulnessDenominator: 0  Score: 1  Time: 1346976000   \n",
       "2      HelpfulnessDenominator: 1  Score: 4  Time: 1219017600   \n",
       "3      HelpfulnessDenominator: 3  Score: 2  Time: 1307923200   \n",
       "4      HelpfulnessDenominator: 0  Score: 5  Time: 1350777600   \n",
       "...                          ...       ...               ...   \n",
       "9994   HelpfulnessDenominator: 4  Score: 5  Time: 1259539200   \n",
       "9995  HelpfulnessDenominator: 15  Score: 1  Time: 1204502400   \n",
       "9996   HelpfulnessDenominator: 3  Score: 5  Time: 1306368000   \n",
       "9997   HelpfulnessDenominator: 0  Score: 5  Time: 1347494400   \n",
       "9998   HelpfulnessDenominator: 2  Score: 5  Time: 1203638400   \n",
       "\n",
       "                                        ReviewSummary  \\\n",
       "0                ReviewSummary: Good Quality Dog Food   \n",
       "1                    ReviewSummary: Not as Advertised   \n",
       "2                ReviewSummary: \"Delight\" says it all   \n",
       "3                       ReviewSummary: Cough Medicine   \n",
       "4                          ReviewSummary: Great taffy   \n",
       "...                                               ...   \n",
       "9994                     ReviewSummary: great product   \n",
       "9995                      ReviewSummary: constipation   \n",
       "9996  ReviewSummary: Constipation Not A Problem if...   \n",
       "9997                ReviewSummary: Love this formula!   \n",
       "9998                   ReviewSummary: very convenient   \n",
       "\n",
       "                                             ReviewText  \n",
       "0     ReviewText: I have bought several of the Vital...  \n",
       "1     ReviewText: Product arrived labeled as Jumbo S...  \n",
       "2     ReviewText: This is a confection that has been...  \n",
       "3     ReviewText: If you are looking for the secret ...  \n",
       "4     ReviewText: Great taffy at a great price.  The...  \n",
       "...                                                 ...  \n",
       "9994  ReviewText: I switched from Similac Advanced t...  \n",
       "9995  ReviewText: we switched from the advance simil...  \n",
       "9996  ReviewText: Like the bad reviews say, the orga...  \n",
       "9997  ReviewText: I wanted to solely breastfeed but ...  \n",
       "9998  ReviewText: i love the fact that i can get thi...  \n",
       "\n",
       "[9999 rows x 9 columns]"
      ]
     },
     "execution_count": 53,
     "metadata": {},
     "output_type": "execute_result"
    }
   ],
   "source": [
    "df"
   ]
  },
  {
   "cell_type": "code",
   "execution_count": 54,
   "id": "46d11fb6",
   "metadata": {},
   "outputs": [
    {
     "data": {
      "text/html": [
       "<div>\n",
       "<style scoped>\n",
       "    .dataframe tbody tr th:only-of-type {\n",
       "        vertical-align: middle;\n",
       "    }\n",
       "\n",
       "    .dataframe tbody tr th {\n",
       "        vertical-align: top;\n",
       "    }\n",
       "\n",
       "    .dataframe thead th {\n",
       "        text-align: right;\n",
       "    }\n",
       "</style>\n",
       "<table border=\"1\" class=\"dataframe\">\n",
       "  <thead>\n",
       "    <tr style=\"text-align: right;\">\n",
       "      <th></th>\n",
       "      <th>ProductId</th>\n",
       "      <th>User_id</th>\n",
       "      <th>ProfileName</th>\n",
       "      <th>HelpfulnessNumerator</th>\n",
       "      <th>HelpfulnessDenominator</th>\n",
       "      <th>Score</th>\n",
       "      <th>Time</th>\n",
       "      <th>ReviewSummary</th>\n",
       "      <th>ReviewText</th>\n",
       "    </tr>\n",
       "  </thead>\n",
       "  <tbody>\n",
       "    <tr>\n",
       "      <th>0</th>\n",
       "      <td>ProductId: B001E4KFG0</td>\n",
       "      <td>UserId: A3SGXH7AUHU8GW</td>\n",
       "      <td>ProfileName: delmartian</td>\n",
       "      <td>HelpfulnessNumerator: 1</td>\n",
       "      <td>HelpfulnessDenominator: 1</td>\n",
       "      <td>Score: 5</td>\n",
       "      <td>Time: 1303862400</td>\n",
       "      <td>ReviewSummary: Good Quality Dog Food</td>\n",
       "      <td>ReviewText: I have bought several of the Vital...</td>\n",
       "    </tr>\n",
       "    <tr>\n",
       "      <th>1</th>\n",
       "      <td>ProductId: B00813GRG4</td>\n",
       "      <td>UserId: A1D87F6ZCVE5NK</td>\n",
       "      <td>ProfileName: dll pa</td>\n",
       "      <td>HelpfulnessNumerator: 0</td>\n",
       "      <td>HelpfulnessDenominator: 0</td>\n",
       "      <td>Score: 1</td>\n",
       "      <td>Time: 1346976000</td>\n",
       "      <td>ReviewSummary: Not as Advertised</td>\n",
       "      <td>ReviewText: Product arrived labeled as Jumbo S...</td>\n",
       "    </tr>\n",
       "    <tr>\n",
       "      <th>2</th>\n",
       "      <td>ProductId: B000LQOCH0</td>\n",
       "      <td>UserId: ABXLMWJIXXAIN</td>\n",
       "      <td>ProfileName: Natalia Corres \"Natalia Corres\"</td>\n",
       "      <td>HelpfulnessNumerator: 1</td>\n",
       "      <td>HelpfulnessDenominator: 1</td>\n",
       "      <td>Score: 4</td>\n",
       "      <td>Time: 1219017600</td>\n",
       "      <td>ReviewSummary: \"Delight\" says it all</td>\n",
       "      <td>ReviewText: This is a confection that has been...</td>\n",
       "    </tr>\n",
       "    <tr>\n",
       "      <th>3</th>\n",
       "      <td>ProductId: B000UA0QIQ</td>\n",
       "      <td>UserId: A395BORC6FGVXV</td>\n",
       "      <td>ProfileName: Karl</td>\n",
       "      <td>HelpfulnessNumerator: 3</td>\n",
       "      <td>HelpfulnessDenominator: 3</td>\n",
       "      <td>Score: 2</td>\n",
       "      <td>Time: 1307923200</td>\n",
       "      <td>ReviewSummary: Cough Medicine</td>\n",
       "      <td>ReviewText: If you are looking for the secret ...</td>\n",
       "    </tr>\n",
       "    <tr>\n",
       "      <th>4</th>\n",
       "      <td>ProductId: B006K2ZZ7K</td>\n",
       "      <td>UserId: A1UQRSCLF8GW1T</td>\n",
       "      <td>ProfileName: Michael D. Bigham \"M. Wassir\"</td>\n",
       "      <td>HelpfulnessNumerator: 0</td>\n",
       "      <td>HelpfulnessDenominator: 0</td>\n",
       "      <td>Score: 5</td>\n",
       "      <td>Time: 1350777600</td>\n",
       "      <td>ReviewSummary: Great taffy</td>\n",
       "      <td>ReviewText: Great taffy at a great price.  The...</td>\n",
       "    </tr>\n",
       "  </tbody>\n",
       "</table>\n",
       "</div>"
      ],
      "text/plain": [
       "               ProductId                 User_id  \\\n",
       "0  ProductId: B001E4KFG0  UserId: A3SGXH7AUHU8GW   \n",
       "1  ProductId: B00813GRG4  UserId: A1D87F6ZCVE5NK   \n",
       "2  ProductId: B000LQOCH0   UserId: ABXLMWJIXXAIN   \n",
       "3  ProductId: B000UA0QIQ  UserId: A395BORC6FGVXV   \n",
       "4  ProductId: B006K2ZZ7K  UserId: A1UQRSCLF8GW1T   \n",
       "\n",
       "                                    ProfileName     HelpfulnessNumerator  \\\n",
       "0                       ProfileName: delmartian  HelpfulnessNumerator: 1   \n",
       "1                           ProfileName: dll pa  HelpfulnessNumerator: 0   \n",
       "2  ProfileName: Natalia Corres \"Natalia Corres\"  HelpfulnessNumerator: 1   \n",
       "3                             ProfileName: Karl  HelpfulnessNumerator: 3   \n",
       "4    ProfileName: Michael D. Bigham \"M. Wassir\"  HelpfulnessNumerator: 0   \n",
       "\n",
       "      HelpfulnessDenominator     Score              Time  \\\n",
       "0  HelpfulnessDenominator: 1  Score: 5  Time: 1303862400   \n",
       "1  HelpfulnessDenominator: 0  Score: 1  Time: 1346976000   \n",
       "2  HelpfulnessDenominator: 1  Score: 4  Time: 1219017600   \n",
       "3  HelpfulnessDenominator: 3  Score: 2  Time: 1307923200   \n",
       "4  HelpfulnessDenominator: 0  Score: 5  Time: 1350777600   \n",
       "\n",
       "                          ReviewSummary  \\\n",
       "0  ReviewSummary: Good Quality Dog Food   \n",
       "1      ReviewSummary: Not as Advertised   \n",
       "2  ReviewSummary: \"Delight\" says it all   \n",
       "3         ReviewSummary: Cough Medicine   \n",
       "4            ReviewSummary: Great taffy   \n",
       "\n",
       "                                          ReviewText  \n",
       "0  ReviewText: I have bought several of the Vital...  \n",
       "1  ReviewText: Product arrived labeled as Jumbo S...  \n",
       "2  ReviewText: This is a confection that has been...  \n",
       "3  ReviewText: If you are looking for the secret ...  \n",
       "4  ReviewText: Great taffy at a great price.  The...  "
      ]
     },
     "execution_count": 54,
     "metadata": {},
     "output_type": "execute_result"
    }
   ],
   "source": [
    "df.head()"
   ]
  },
  {
   "cell_type": "code",
   "execution_count": 55,
   "id": "6a3f0192",
   "metadata": {},
   "outputs": [],
   "source": [
    "df['ProductId']=df['ProductId'].apply(lambda x:x.replace('ProductId:',''))\n",
    "df['User_id']=df['User_id'].apply(lambda x:x.replace('UserId:',''))\n",
    "df['ProfileName']=df['ProfileName'].apply(lambda x:x.replace('ProfileName:',''))\n",
    "df['HelpfulnessNumerator']=df['HelpfulnessNumerator'].apply(lambda x:x.replace('HelpfulnessNumerator:',''))\n",
    "df['HelpfulnessDenominator']=df['HelpfulnessDenominator'].apply(lambda x:x.replace('HelpfulnessDenominator:',''))\n",
    "df['Score']=df['Score'].apply(lambda x:x.replace('Score:',''))\n",
    "df['Time']=df['Time'].apply(lambda x:x.replace('Time:',''))\n",
    "df['ReviewSummary']=df['ReviewSummary'].apply(lambda x:x.replace('ReviewSummary:',''))\n",
    "df['ReviewText']=df['ReviewText'].apply(lambda x:x.replace('ReviewText:',''))\n"
   ]
  },
  {
   "cell_type": "code",
   "execution_count": 56,
   "id": "2a250d08",
   "metadata": {
    "scrolled": true
   },
   "outputs": [
    {
     "data": {
      "text/html": [
       "<div>\n",
       "<style scoped>\n",
       "    .dataframe tbody tr th:only-of-type {\n",
       "        vertical-align: middle;\n",
       "    }\n",
       "\n",
       "    .dataframe tbody tr th {\n",
       "        vertical-align: top;\n",
       "    }\n",
       "\n",
       "    .dataframe thead th {\n",
       "        text-align: right;\n",
       "    }\n",
       "</style>\n",
       "<table border=\"1\" class=\"dataframe\">\n",
       "  <thead>\n",
       "    <tr style=\"text-align: right;\">\n",
       "      <th></th>\n",
       "      <th>ProductId</th>\n",
       "      <th>User_id</th>\n",
       "      <th>ProfileName</th>\n",
       "      <th>HelpfulnessNumerator</th>\n",
       "      <th>HelpfulnessDenominator</th>\n",
       "      <th>Score</th>\n",
       "      <th>Time</th>\n",
       "      <th>ReviewSummary</th>\n",
       "      <th>ReviewText</th>\n",
       "    </tr>\n",
       "  </thead>\n",
       "  <tbody>\n",
       "    <tr>\n",
       "      <th>0</th>\n",
       "      <td>B001E4KFG0</td>\n",
       "      <td>A3SGXH7AUHU8GW</td>\n",
       "      <td>delmartian</td>\n",
       "      <td>1</td>\n",
       "      <td>1</td>\n",
       "      <td>5</td>\n",
       "      <td>1303862400</td>\n",
       "      <td>Good Quality Dog Food</td>\n",
       "      <td>I have bought several of the Vitality canned ...</td>\n",
       "    </tr>\n",
       "    <tr>\n",
       "      <th>1</th>\n",
       "      <td>B00813GRG4</td>\n",
       "      <td>A1D87F6ZCVE5NK</td>\n",
       "      <td>dll pa</td>\n",
       "      <td>0</td>\n",
       "      <td>0</td>\n",
       "      <td>1</td>\n",
       "      <td>1346976000</td>\n",
       "      <td>Not as Advertised</td>\n",
       "      <td>Product arrived labeled as Jumbo Salted Peanu...</td>\n",
       "    </tr>\n",
       "    <tr>\n",
       "      <th>2</th>\n",
       "      <td>B000LQOCH0</td>\n",
       "      <td>ABXLMWJIXXAIN</td>\n",
       "      <td>Natalia Corres \"Natalia Corres\"</td>\n",
       "      <td>1</td>\n",
       "      <td>1</td>\n",
       "      <td>4</td>\n",
       "      <td>1219017600</td>\n",
       "      <td>\"Delight\" says it all</td>\n",
       "      <td>This is a confection that has been around a f...</td>\n",
       "    </tr>\n",
       "    <tr>\n",
       "      <th>3</th>\n",
       "      <td>B000UA0QIQ</td>\n",
       "      <td>A395BORC6FGVXV</td>\n",
       "      <td>Karl</td>\n",
       "      <td>3</td>\n",
       "      <td>3</td>\n",
       "      <td>2</td>\n",
       "      <td>1307923200</td>\n",
       "      <td>Cough Medicine</td>\n",
       "      <td>If you are looking for the secret ingredient ...</td>\n",
       "    </tr>\n",
       "    <tr>\n",
       "      <th>4</th>\n",
       "      <td>B006K2ZZ7K</td>\n",
       "      <td>A1UQRSCLF8GW1T</td>\n",
       "      <td>Michael D. Bigham \"M. Wassir\"</td>\n",
       "      <td>0</td>\n",
       "      <td>0</td>\n",
       "      <td>5</td>\n",
       "      <td>1350777600</td>\n",
       "      <td>Great taffy</td>\n",
       "      <td>Great taffy at a great price.  There was a wi...</td>\n",
       "    </tr>\n",
       "  </tbody>\n",
       "</table>\n",
       "</div>"
      ],
      "text/plain": [
       "     ProductId          User_id                       ProfileName  \\\n",
       "0   B001E4KFG0   A3SGXH7AUHU8GW                        delmartian   \n",
       "1   B00813GRG4   A1D87F6ZCVE5NK                            dll pa   \n",
       "2   B000LQOCH0    ABXLMWJIXXAIN   Natalia Corres \"Natalia Corres\"   \n",
       "3   B000UA0QIQ   A395BORC6FGVXV                              Karl   \n",
       "4   B006K2ZZ7K   A1UQRSCLF8GW1T     Michael D. Bigham \"M. Wassir\"   \n",
       "\n",
       "  HelpfulnessNumerator HelpfulnessDenominator Score         Time  \\\n",
       "0                    1                      1     5   1303862400   \n",
       "1                    0                      0     1   1346976000   \n",
       "2                    1                      1     4   1219017600   \n",
       "3                    3                      3     2   1307923200   \n",
       "4                    0                      0     5   1350777600   \n",
       "\n",
       "            ReviewSummary                                         ReviewText  \n",
       "0   Good Quality Dog Food   I have bought several of the Vitality canned ...  \n",
       "1       Not as Advertised   Product arrived labeled as Jumbo Salted Peanu...  \n",
       "2   \"Delight\" says it all   This is a confection that has been around a f...  \n",
       "3          Cough Medicine   If you are looking for the secret ingredient ...  \n",
       "4             Great taffy   Great taffy at a great price.  There was a wi...  "
      ]
     },
     "execution_count": 56,
     "metadata": {},
     "output_type": "execute_result"
    }
   ],
   "source": [
    "df.head()"
   ]
  },
  {
   "cell_type": "code",
   "execution_count": 57,
   "id": "9bac4bfc",
   "metadata": {},
   "outputs": [],
   "source": [
    "df.to_csv(\"C:/Users/INDIA/Desktop/Data Science/Machine Learning/new_review.csv\", index = False )"
   ]
  },
  {
   "cell_type": "code",
   "execution_count": 58,
   "id": "1891d3e6",
   "metadata": {},
   "outputs": [],
   "source": [
    "df = pd.read_csv(\"C:/Users/INDIA/Desktop/Data Science/Machine Learning/new_review.csv\")"
   ]
  },
  {
   "cell_type": "code",
   "execution_count": 59,
   "id": "f002b18d",
   "metadata": {
    "scrolled": false
   },
   "outputs": [
    {
     "data": {
      "text/html": [
       "<div>\n",
       "<style scoped>\n",
       "    .dataframe tbody tr th:only-of-type {\n",
       "        vertical-align: middle;\n",
       "    }\n",
       "\n",
       "    .dataframe tbody tr th {\n",
       "        vertical-align: top;\n",
       "    }\n",
       "\n",
       "    .dataframe thead th {\n",
       "        text-align: right;\n",
       "    }\n",
       "</style>\n",
       "<table border=\"1\" class=\"dataframe\">\n",
       "  <thead>\n",
       "    <tr style=\"text-align: right;\">\n",
       "      <th></th>\n",
       "      <th>ProductId</th>\n",
       "      <th>User_id</th>\n",
       "      <th>ProfileName</th>\n",
       "      <th>HelpfulnessNumerator</th>\n",
       "      <th>HelpfulnessDenominator</th>\n",
       "      <th>Score</th>\n",
       "      <th>Time</th>\n",
       "      <th>ReviewSummary</th>\n",
       "      <th>ReviewText</th>\n",
       "    </tr>\n",
       "  </thead>\n",
       "  <tbody>\n",
       "    <tr>\n",
       "      <th>0</th>\n",
       "      <td>B001E4KFG0</td>\n",
       "      <td>A3SGXH7AUHU8GW</td>\n",
       "      <td>delmartian</td>\n",
       "      <td>1</td>\n",
       "      <td>1</td>\n",
       "      <td>5</td>\n",
       "      <td>1303862400</td>\n",
       "      <td>Good Quality Dog Food</td>\n",
       "      <td>I have bought several of the Vitality canned ...</td>\n",
       "    </tr>\n",
       "    <tr>\n",
       "      <th>1</th>\n",
       "      <td>B00813GRG4</td>\n",
       "      <td>A1D87F6ZCVE5NK</td>\n",
       "      <td>dll pa</td>\n",
       "      <td>0</td>\n",
       "      <td>0</td>\n",
       "      <td>1</td>\n",
       "      <td>1346976000</td>\n",
       "      <td>Not as Advertised</td>\n",
       "      <td>Product arrived labeled as Jumbo Salted Peanu...</td>\n",
       "    </tr>\n",
       "    <tr>\n",
       "      <th>2</th>\n",
       "      <td>B000LQOCH0</td>\n",
       "      <td>ABXLMWJIXXAIN</td>\n",
       "      <td>Natalia Corres \"Natalia Corres\"</td>\n",
       "      <td>1</td>\n",
       "      <td>1</td>\n",
       "      <td>4</td>\n",
       "      <td>1219017600</td>\n",
       "      <td>\"Delight\" says it all</td>\n",
       "      <td>This is a confection that has been around a f...</td>\n",
       "    </tr>\n",
       "    <tr>\n",
       "      <th>3</th>\n",
       "      <td>B000UA0QIQ</td>\n",
       "      <td>A395BORC6FGVXV</td>\n",
       "      <td>Karl</td>\n",
       "      <td>3</td>\n",
       "      <td>3</td>\n",
       "      <td>2</td>\n",
       "      <td>1307923200</td>\n",
       "      <td>Cough Medicine</td>\n",
       "      <td>If you are looking for the secret ingredient ...</td>\n",
       "    </tr>\n",
       "    <tr>\n",
       "      <th>4</th>\n",
       "      <td>B006K2ZZ7K</td>\n",
       "      <td>A1UQRSCLF8GW1T</td>\n",
       "      <td>Michael D. Bigham \"M. Wassir\"</td>\n",
       "      <td>0</td>\n",
       "      <td>0</td>\n",
       "      <td>5</td>\n",
       "      <td>1350777600</td>\n",
       "      <td>Great taffy</td>\n",
       "      <td>Great taffy at a great price.  There was a wi...</td>\n",
       "    </tr>\n",
       "    <tr>\n",
       "      <th>...</th>\n",
       "      <td>...</td>\n",
       "      <td>...</td>\n",
       "      <td>...</td>\n",
       "      <td>...</td>\n",
       "      <td>...</td>\n",
       "      <td>...</td>\n",
       "      <td>...</td>\n",
       "      <td>...</td>\n",
       "      <td>...</td>\n",
       "    </tr>\n",
       "    <tr>\n",
       "      <th>9994</th>\n",
       "      <td>B000P41A28</td>\n",
       "      <td>A350OL4V8DV5YK</td>\n",
       "      <td>Helen Avramenko</td>\n",
       "      <td>3</td>\n",
       "      <td>4</td>\n",
       "      <td>5</td>\n",
       "      <td>1259539200</td>\n",
       "      <td>great product</td>\n",
       "      <td>I switched from Similac Advanced to Organic w...</td>\n",
       "    </tr>\n",
       "    <tr>\n",
       "      <th>9995</th>\n",
       "      <td>B000P41A28</td>\n",
       "      <td>A3A63RACXR1XIL</td>\n",
       "      <td>A. Boodhoo \"deaddodo\"</td>\n",
       "      <td>10</td>\n",
       "      <td>15</td>\n",
       "      <td>1</td>\n",
       "      <td>1204502400</td>\n",
       "      <td>constipation</td>\n",
       "      <td>we switched from the advance similac to the o...</td>\n",
       "    </tr>\n",
       "    <tr>\n",
       "      <th>9996</th>\n",
       "      <td>B000P41A28</td>\n",
       "      <td>A5VVRGL8JA7R</td>\n",
       "      <td>Adam</td>\n",
       "      <td>2</td>\n",
       "      <td>3</td>\n",
       "      <td>5</td>\n",
       "      <td>1306368000</td>\n",
       "      <td>Constipation Not A Problem if...</td>\n",
       "      <td>Like the bad reviews say, the organic formula...</td>\n",
       "    </tr>\n",
       "    <tr>\n",
       "      <th>9997</th>\n",
       "      <td>B000P41A28</td>\n",
       "      <td>A2TGDTJ8YCU6PD</td>\n",
       "      <td>geena77</td>\n",
       "      <td>0</td>\n",
       "      <td>0</td>\n",
       "      <td>5</td>\n",
       "      <td>1347494400</td>\n",
       "      <td>Love this formula!</td>\n",
       "      <td>I wanted to solely breastfeed but was unable ...</td>\n",
       "    </tr>\n",
       "    <tr>\n",
       "      <th>9998</th>\n",
       "      <td>B000P41A28</td>\n",
       "      <td>AUV4GIZZE693O</td>\n",
       "      <td>Susan Coe \"sueysis\"</td>\n",
       "      <td>1</td>\n",
       "      <td>2</td>\n",
       "      <td>5</td>\n",
       "      <td>1203638400</td>\n",
       "      <td>very convenient</td>\n",
       "      <td>i love the fact that i can get this delieved ...</td>\n",
       "    </tr>\n",
       "  </tbody>\n",
       "</table>\n",
       "<p>9999 rows × 9 columns</p>\n",
       "</div>"
      ],
      "text/plain": [
       "        ProductId          User_id                       ProfileName  \\\n",
       "0      B001E4KFG0   A3SGXH7AUHU8GW                        delmartian   \n",
       "1      B00813GRG4   A1D87F6ZCVE5NK                            dll pa   \n",
       "2      B000LQOCH0    ABXLMWJIXXAIN   Natalia Corres \"Natalia Corres\"   \n",
       "3      B000UA0QIQ   A395BORC6FGVXV                              Karl   \n",
       "4      B006K2ZZ7K   A1UQRSCLF8GW1T     Michael D. Bigham \"M. Wassir\"   \n",
       "...           ...              ...                               ...   \n",
       "9994   B000P41A28   A350OL4V8DV5YK                   Helen Avramenko   \n",
       "9995   B000P41A28   A3A63RACXR1XIL             A. Boodhoo \"deaddodo\"   \n",
       "9996   B000P41A28     A5VVRGL8JA7R                              Adam   \n",
       "9997   B000P41A28   A2TGDTJ8YCU6PD                           geena77   \n",
       "9998   B000P41A28    AUV4GIZZE693O               Susan Coe \"sueysis\"   \n",
       "\n",
       "      HelpfulnessNumerator  HelpfulnessDenominator  Score        Time  \\\n",
       "0                        1                       1      5  1303862400   \n",
       "1                        0                       0      1  1346976000   \n",
       "2                        1                       1      4  1219017600   \n",
       "3                        3                       3      2  1307923200   \n",
       "4                        0                       0      5  1350777600   \n",
       "...                    ...                     ...    ...         ...   \n",
       "9994                     3                       4      5  1259539200   \n",
       "9995                    10                      15      1  1204502400   \n",
       "9996                     2                       3      5  1306368000   \n",
       "9997                     0                       0      5  1347494400   \n",
       "9998                     1                       2      5  1203638400   \n",
       "\n",
       "                          ReviewSummary  \\\n",
       "0                 Good Quality Dog Food   \n",
       "1                     Not as Advertised   \n",
       "2                 \"Delight\" says it all   \n",
       "3                        Cough Medicine   \n",
       "4                           Great taffy   \n",
       "...                                 ...   \n",
       "9994                      great product   \n",
       "9995                       constipation   \n",
       "9996   Constipation Not A Problem if...   \n",
       "9997                 Love this formula!   \n",
       "9998                    very convenient   \n",
       "\n",
       "                                             ReviewText  \n",
       "0      I have bought several of the Vitality canned ...  \n",
       "1      Product arrived labeled as Jumbo Salted Peanu...  \n",
       "2      This is a confection that has been around a f...  \n",
       "3      If you are looking for the secret ingredient ...  \n",
       "4      Great taffy at a great price.  There was a wi...  \n",
       "...                                                 ...  \n",
       "9994   I switched from Similac Advanced to Organic w...  \n",
       "9995   we switched from the advance similac to the o...  \n",
       "9996   Like the bad reviews say, the organic formula...  \n",
       "9997   I wanted to solely breastfeed but was unable ...  \n",
       "9998   i love the fact that i can get this delieved ...  \n",
       "\n",
       "[9999 rows x 9 columns]"
      ]
     },
     "execution_count": 59,
     "metadata": {},
     "output_type": "execute_result"
    }
   ],
   "source": [
    "df"
   ]
  },
  {
   "cell_type": "markdown",
   "id": "3a7d933a",
   "metadata": {},
   "source": [
    "## Test preprocessing"
   ]
  },
  {
   "cell_type": "code",
   "execution_count": 60,
   "id": "b7df4ad0",
   "metadata": {},
   "outputs": [],
   "source": [
    "review = df[\"ReviewSummary\"][0]"
   ]
  },
  {
   "cell_type": "code",
   "execution_count": 61,
   "id": "29e35528",
   "metadata": {},
   "outputs": [
    {
     "data": {
      "text/plain": [
       "' Good Quality Dog Food'"
      ]
     },
     "execution_count": 61,
     "metadata": {},
     "output_type": "execute_result"
    }
   ],
   "source": [
    "review"
   ]
  },
  {
   "cell_type": "markdown",
   "id": "d6ba2f72",
   "metadata": {},
   "source": [
    "### Load Stop words "
   ]
  },
  {
   "cell_type": "code",
   "execution_count": 62,
   "id": "cbd218d3",
   "metadata": {},
   "outputs": [],
   "source": [
    "import nltk"
   ]
  },
  {
   "cell_type": "code",
   "execution_count": 63,
   "id": "be9ef53b",
   "metadata": {},
   "outputs": [],
   "source": [
    "# corpus -- group of words/text\n",
    "from nltk.corpus import stopwords"
   ]
  },
  {
   "cell_type": "code",
   "execution_count": 64,
   "id": "1fafe7f5",
   "metadata": {},
   "outputs": [],
   "source": [
    "#argument : language\n",
    "sw_list = stopwords.words(\"english\")"
   ]
  },
  {
   "cell_type": "code",
   "execution_count": 65,
   "id": "22a11bc5",
   "metadata": {},
   "outputs": [],
   "source": [
    "from nltk.stem import WordNetLemmatizer\n",
    "\n",
    "lem = WordNetLemmatizer()"
   ]
  },
  {
   "cell_type": "code",
   "execution_count": 66,
   "id": "ad3a60ea",
   "metadata": {},
   "outputs": [],
   "source": [
    "# to apply this to all the review\n",
    "# we are just putting everything in a single thing\n",
    "\n",
    "def text_preprocessing(review):\n",
    "    #Normalizing the case\n",
    "    review = review.lower()\n",
    "    #Removing the special characters\n",
    "    review = re.sub(\"[^a-zA-Z\\s]\", \"\", review)\n",
    "    #Word Tokenization\n",
    "    review = review.split()\n",
    "    #Stopword removal and lemmatization\n",
    "    review = [lem.lemmatize(word, pos = \"v\") for word in review if word not in sw_list]\n",
    "    #Join into text\n",
    "    review = \" \".join(review)\n",
    "    return review"
   ]
  },
  {
   "cell_type": "code",
   "execution_count": 67,
   "id": "c4affdb5",
   "metadata": {},
   "outputs": [
    {
     "data": {
      "text/plain": [
       "'beautifull place'"
      ]
     },
     "execution_count": 67,
     "metadata": {},
     "output_type": "execute_result"
    }
   ],
   "source": [
    "text_preprocessing(\"what a beautifull place\")"
   ]
  },
  {
   "cell_type": "code",
   "execution_count": 68,
   "id": "5ad65cb6",
   "metadata": {},
   "outputs": [],
   "source": [
    "df[\"ReviewSummary\"] = df[\"ReviewSummary\"].apply(text_preprocessing)"
   ]
  },
  {
   "cell_type": "code",
   "execution_count": 69,
   "id": "cb4153dc",
   "metadata": {
    "scrolled": true
   },
   "outputs": [
    {
     "data": {
      "text/html": [
       "<div>\n",
       "<style scoped>\n",
       "    .dataframe tbody tr th:only-of-type {\n",
       "        vertical-align: middle;\n",
       "    }\n",
       "\n",
       "    .dataframe tbody tr th {\n",
       "        vertical-align: top;\n",
       "    }\n",
       "\n",
       "    .dataframe thead th {\n",
       "        text-align: right;\n",
       "    }\n",
       "</style>\n",
       "<table border=\"1\" class=\"dataframe\">\n",
       "  <thead>\n",
       "    <tr style=\"text-align: right;\">\n",
       "      <th></th>\n",
       "      <th>ProductId</th>\n",
       "      <th>User_id</th>\n",
       "      <th>ProfileName</th>\n",
       "      <th>HelpfulnessNumerator</th>\n",
       "      <th>HelpfulnessDenominator</th>\n",
       "      <th>Score</th>\n",
       "      <th>Time</th>\n",
       "      <th>ReviewSummary</th>\n",
       "      <th>ReviewText</th>\n",
       "    </tr>\n",
       "  </thead>\n",
       "  <tbody>\n",
       "    <tr>\n",
       "      <th>0</th>\n",
       "      <td>B001E4KFG0</td>\n",
       "      <td>A3SGXH7AUHU8GW</td>\n",
       "      <td>delmartian</td>\n",
       "      <td>1</td>\n",
       "      <td>1</td>\n",
       "      <td>5</td>\n",
       "      <td>1303862400</td>\n",
       "      <td>good quality dog food</td>\n",
       "      <td>I have bought several of the Vitality canned ...</td>\n",
       "    </tr>\n",
       "    <tr>\n",
       "      <th>1</th>\n",
       "      <td>B00813GRG4</td>\n",
       "      <td>A1D87F6ZCVE5NK</td>\n",
       "      <td>dll pa</td>\n",
       "      <td>0</td>\n",
       "      <td>0</td>\n",
       "      <td>1</td>\n",
       "      <td>1346976000</td>\n",
       "      <td>advertise</td>\n",
       "      <td>Product arrived labeled as Jumbo Salted Peanu...</td>\n",
       "    </tr>\n",
       "    <tr>\n",
       "      <th>2</th>\n",
       "      <td>B000LQOCH0</td>\n",
       "      <td>ABXLMWJIXXAIN</td>\n",
       "      <td>Natalia Corres \"Natalia Corres\"</td>\n",
       "      <td>1</td>\n",
       "      <td>1</td>\n",
       "      <td>4</td>\n",
       "      <td>1219017600</td>\n",
       "      <td>delight say</td>\n",
       "      <td>This is a confection that has been around a f...</td>\n",
       "    </tr>\n",
       "    <tr>\n",
       "      <th>3</th>\n",
       "      <td>B000UA0QIQ</td>\n",
       "      <td>A395BORC6FGVXV</td>\n",
       "      <td>Karl</td>\n",
       "      <td>3</td>\n",
       "      <td>3</td>\n",
       "      <td>2</td>\n",
       "      <td>1307923200</td>\n",
       "      <td>cough medicine</td>\n",
       "      <td>If you are looking for the secret ingredient ...</td>\n",
       "    </tr>\n",
       "    <tr>\n",
       "      <th>4</th>\n",
       "      <td>B006K2ZZ7K</td>\n",
       "      <td>A1UQRSCLF8GW1T</td>\n",
       "      <td>Michael D. Bigham \"M. Wassir\"</td>\n",
       "      <td>0</td>\n",
       "      <td>0</td>\n",
       "      <td>5</td>\n",
       "      <td>1350777600</td>\n",
       "      <td>great taffy</td>\n",
       "      <td>Great taffy at a great price.  There was a wi...</td>\n",
       "    </tr>\n",
       "    <tr>\n",
       "      <th>...</th>\n",
       "      <td>...</td>\n",
       "      <td>...</td>\n",
       "      <td>...</td>\n",
       "      <td>...</td>\n",
       "      <td>...</td>\n",
       "      <td>...</td>\n",
       "      <td>...</td>\n",
       "      <td>...</td>\n",
       "      <td>...</td>\n",
       "    </tr>\n",
       "    <tr>\n",
       "      <th>9994</th>\n",
       "      <td>B000P41A28</td>\n",
       "      <td>A350OL4V8DV5YK</td>\n",
       "      <td>Helen Avramenko</td>\n",
       "      <td>3</td>\n",
       "      <td>4</td>\n",
       "      <td>5</td>\n",
       "      <td>1259539200</td>\n",
       "      <td>great product</td>\n",
       "      <td>I switched from Similac Advanced to Organic w...</td>\n",
       "    </tr>\n",
       "    <tr>\n",
       "      <th>9995</th>\n",
       "      <td>B000P41A28</td>\n",
       "      <td>A3A63RACXR1XIL</td>\n",
       "      <td>A. Boodhoo \"deaddodo\"</td>\n",
       "      <td>10</td>\n",
       "      <td>15</td>\n",
       "      <td>1</td>\n",
       "      <td>1204502400</td>\n",
       "      <td>constipation</td>\n",
       "      <td>we switched from the advance similac to the o...</td>\n",
       "    </tr>\n",
       "    <tr>\n",
       "      <th>9996</th>\n",
       "      <td>B000P41A28</td>\n",
       "      <td>A5VVRGL8JA7R</td>\n",
       "      <td>Adam</td>\n",
       "      <td>2</td>\n",
       "      <td>3</td>\n",
       "      <td>5</td>\n",
       "      <td>1306368000</td>\n",
       "      <td>constipation problem</td>\n",
       "      <td>Like the bad reviews say, the organic formula...</td>\n",
       "    </tr>\n",
       "    <tr>\n",
       "      <th>9997</th>\n",
       "      <td>B000P41A28</td>\n",
       "      <td>A2TGDTJ8YCU6PD</td>\n",
       "      <td>geena77</td>\n",
       "      <td>0</td>\n",
       "      <td>0</td>\n",
       "      <td>5</td>\n",
       "      <td>1347494400</td>\n",
       "      <td>love formula</td>\n",
       "      <td>I wanted to solely breastfeed but was unable ...</td>\n",
       "    </tr>\n",
       "    <tr>\n",
       "      <th>9998</th>\n",
       "      <td>B000P41A28</td>\n",
       "      <td>AUV4GIZZE693O</td>\n",
       "      <td>Susan Coe \"sueysis\"</td>\n",
       "      <td>1</td>\n",
       "      <td>2</td>\n",
       "      <td>5</td>\n",
       "      <td>1203638400</td>\n",
       "      <td>convenient</td>\n",
       "      <td>i love the fact that i can get this delieved ...</td>\n",
       "    </tr>\n",
       "  </tbody>\n",
       "</table>\n",
       "<p>9999 rows × 9 columns</p>\n",
       "</div>"
      ],
      "text/plain": [
       "        ProductId          User_id                       ProfileName  \\\n",
       "0      B001E4KFG0   A3SGXH7AUHU8GW                        delmartian   \n",
       "1      B00813GRG4   A1D87F6ZCVE5NK                            dll pa   \n",
       "2      B000LQOCH0    ABXLMWJIXXAIN   Natalia Corres \"Natalia Corres\"   \n",
       "3      B000UA0QIQ   A395BORC6FGVXV                              Karl   \n",
       "4      B006K2ZZ7K   A1UQRSCLF8GW1T     Michael D. Bigham \"M. Wassir\"   \n",
       "...           ...              ...                               ...   \n",
       "9994   B000P41A28   A350OL4V8DV5YK                   Helen Avramenko   \n",
       "9995   B000P41A28   A3A63RACXR1XIL             A. Boodhoo \"deaddodo\"   \n",
       "9996   B000P41A28     A5VVRGL8JA7R                              Adam   \n",
       "9997   B000P41A28   A2TGDTJ8YCU6PD                           geena77   \n",
       "9998   B000P41A28    AUV4GIZZE693O               Susan Coe \"sueysis\"   \n",
       "\n",
       "      HelpfulnessNumerator  HelpfulnessDenominator  Score        Time  \\\n",
       "0                        1                       1      5  1303862400   \n",
       "1                        0                       0      1  1346976000   \n",
       "2                        1                       1      4  1219017600   \n",
       "3                        3                       3      2  1307923200   \n",
       "4                        0                       0      5  1350777600   \n",
       "...                    ...                     ...    ...         ...   \n",
       "9994                     3                       4      5  1259539200   \n",
       "9995                    10                      15      1  1204502400   \n",
       "9996                     2                       3      5  1306368000   \n",
       "9997                     0                       0      5  1347494400   \n",
       "9998                     1                       2      5  1203638400   \n",
       "\n",
       "              ReviewSummary                                         ReviewText  \n",
       "0     good quality dog food   I have bought several of the Vitality canned ...  \n",
       "1                 advertise   Product arrived labeled as Jumbo Salted Peanu...  \n",
       "2               delight say   This is a confection that has been around a f...  \n",
       "3            cough medicine   If you are looking for the secret ingredient ...  \n",
       "4               great taffy   Great taffy at a great price.  There was a wi...  \n",
       "...                     ...                                                ...  \n",
       "9994          great product   I switched from Similac Advanced to Organic w...  \n",
       "9995           constipation   we switched from the advance similac to the o...  \n",
       "9996   constipation problem   Like the bad reviews say, the organic formula...  \n",
       "9997           love formula   I wanted to solely breastfeed but was unable ...  \n",
       "9998             convenient   i love the fact that i can get this delieved ...  \n",
       "\n",
       "[9999 rows x 9 columns]"
      ]
     },
     "execution_count": 69,
     "metadata": {},
     "output_type": "execute_result"
    }
   ],
   "source": [
    "df"
   ]
  },
  {
   "cell_type": "code",
   "execution_count": 70,
   "id": "9a4b3c5e",
   "metadata": {},
   "outputs": [],
   "source": [
    " df[\"Helpfullness\"] = df[\"HelpfulnessNumerator\"]/ df[\"HelpfulnessDenominator\"]"
   ]
  },
  {
   "cell_type": "code",
   "execution_count": 71,
   "id": "83af04b9",
   "metadata": {
    "scrolled": true
   },
   "outputs": [],
   "source": [
    "df[\"Helpfullness\"].dropna(inplace = True)"
   ]
  },
  {
   "cell_type": "code",
   "execution_count": 72,
   "id": "1c1e9f91",
   "metadata": {},
   "outputs": [
    {
     "data": {
      "text/html": [
       "<div>\n",
       "<style scoped>\n",
       "    .dataframe tbody tr th:only-of-type {\n",
       "        vertical-align: middle;\n",
       "    }\n",
       "\n",
       "    .dataframe tbody tr th {\n",
       "        vertical-align: top;\n",
       "    }\n",
       "\n",
       "    .dataframe thead th {\n",
       "        text-align: right;\n",
       "    }\n",
       "</style>\n",
       "<table border=\"1\" class=\"dataframe\">\n",
       "  <thead>\n",
       "    <tr style=\"text-align: right;\">\n",
       "      <th></th>\n",
       "      <th>ProductId</th>\n",
       "      <th>User_id</th>\n",
       "      <th>ProfileName</th>\n",
       "      <th>HelpfulnessNumerator</th>\n",
       "      <th>HelpfulnessDenominator</th>\n",
       "      <th>Score</th>\n",
       "      <th>Time</th>\n",
       "      <th>ReviewSummary</th>\n",
       "      <th>ReviewText</th>\n",
       "      <th>Helpfullness</th>\n",
       "    </tr>\n",
       "  </thead>\n",
       "  <tbody>\n",
       "    <tr>\n",
       "      <th>0</th>\n",
       "      <td>B001E4KFG0</td>\n",
       "      <td>A3SGXH7AUHU8GW</td>\n",
       "      <td>delmartian</td>\n",
       "      <td>1</td>\n",
       "      <td>1</td>\n",
       "      <td>5</td>\n",
       "      <td>1303862400</td>\n",
       "      <td>good quality dog food</td>\n",
       "      <td>I have bought several of the Vitality canned ...</td>\n",
       "      <td>1.0</td>\n",
       "    </tr>\n",
       "    <tr>\n",
       "      <th>1</th>\n",
       "      <td>B00813GRG4</td>\n",
       "      <td>A1D87F6ZCVE5NK</td>\n",
       "      <td>dll pa</td>\n",
       "      <td>0</td>\n",
       "      <td>0</td>\n",
       "      <td>1</td>\n",
       "      <td>1346976000</td>\n",
       "      <td>advertise</td>\n",
       "      <td>Product arrived labeled as Jumbo Salted Peanu...</td>\n",
       "      <td>NaN</td>\n",
       "    </tr>\n",
       "    <tr>\n",
       "      <th>2</th>\n",
       "      <td>B000LQOCH0</td>\n",
       "      <td>ABXLMWJIXXAIN</td>\n",
       "      <td>Natalia Corres \"Natalia Corres\"</td>\n",
       "      <td>1</td>\n",
       "      <td>1</td>\n",
       "      <td>4</td>\n",
       "      <td>1219017600</td>\n",
       "      <td>delight say</td>\n",
       "      <td>This is a confection that has been around a f...</td>\n",
       "      <td>1.0</td>\n",
       "    </tr>\n",
       "    <tr>\n",
       "      <th>3</th>\n",
       "      <td>B000UA0QIQ</td>\n",
       "      <td>A395BORC6FGVXV</td>\n",
       "      <td>Karl</td>\n",
       "      <td>3</td>\n",
       "      <td>3</td>\n",
       "      <td>2</td>\n",
       "      <td>1307923200</td>\n",
       "      <td>cough medicine</td>\n",
       "      <td>If you are looking for the secret ingredient ...</td>\n",
       "      <td>1.0</td>\n",
       "    </tr>\n",
       "    <tr>\n",
       "      <th>4</th>\n",
       "      <td>B006K2ZZ7K</td>\n",
       "      <td>A1UQRSCLF8GW1T</td>\n",
       "      <td>Michael D. Bigham \"M. Wassir\"</td>\n",
       "      <td>0</td>\n",
       "      <td>0</td>\n",
       "      <td>5</td>\n",
       "      <td>1350777600</td>\n",
       "      <td>great taffy</td>\n",
       "      <td>Great taffy at a great price.  There was a wi...</td>\n",
       "      <td>NaN</td>\n",
       "    </tr>\n",
       "  </tbody>\n",
       "</table>\n",
       "</div>"
      ],
      "text/plain": [
       "     ProductId          User_id                       ProfileName  \\\n",
       "0   B001E4KFG0   A3SGXH7AUHU8GW                        delmartian   \n",
       "1   B00813GRG4   A1D87F6ZCVE5NK                            dll pa   \n",
       "2   B000LQOCH0    ABXLMWJIXXAIN   Natalia Corres \"Natalia Corres\"   \n",
       "3   B000UA0QIQ   A395BORC6FGVXV                              Karl   \n",
       "4   B006K2ZZ7K   A1UQRSCLF8GW1T     Michael D. Bigham \"M. Wassir\"   \n",
       "\n",
       "   HelpfulnessNumerator  HelpfulnessDenominator  Score        Time  \\\n",
       "0                     1                       1      5  1303862400   \n",
       "1                     0                       0      1  1346976000   \n",
       "2                     1                       1      4  1219017600   \n",
       "3                     3                       3      2  1307923200   \n",
       "4                     0                       0      5  1350777600   \n",
       "\n",
       "           ReviewSummary                                         ReviewText  \\\n",
       "0  good quality dog food   I have bought several of the Vitality canned ...   \n",
       "1              advertise   Product arrived labeled as Jumbo Salted Peanu...   \n",
       "2            delight say   This is a confection that has been around a f...   \n",
       "3         cough medicine   If you are looking for the secret ingredient ...   \n",
       "4            great taffy   Great taffy at a great price.  There was a wi...   \n",
       "\n",
       "   Helpfullness  \n",
       "0           1.0  \n",
       "1           NaN  \n",
       "2           1.0  \n",
       "3           1.0  \n",
       "4           NaN  "
      ]
     },
     "execution_count": 72,
     "metadata": {},
     "output_type": "execute_result"
    }
   ],
   "source": [
    "df.head()"
   ]
  },
  {
   "cell_type": "markdown",
   "id": "52dc9355",
   "metadata": {},
   "source": [
    "# Sprint 2"
   ]
  },
  {
   "cell_type": "markdown",
   "id": "33dfe460",
   "metadata": {},
   "source": [
    "## EDA"
   ]
  },
  {
   "cell_type": "code",
   "execution_count": 73,
   "id": "d65139de",
   "metadata": {},
   "outputs": [],
   "source": [
    "import warnings\n",
    "warnings.filterwarnings('ignore')"
   ]
  },
  {
   "cell_type": "code",
   "execution_count": 74,
   "id": "64022e41",
   "metadata": {},
   "outputs": [
    {
     "data": {
      "text/plain": [
       "<seaborn.axisgrid.FacetGrid at 0x1a0de633d90>"
      ]
     },
     "execution_count": 74,
     "metadata": {},
     "output_type": "execute_result"
    },
    {
     "data": {
      "image/png": "[encoded data removed]",
      "text/plain": [
       "<Figure size 360x360 with 1 Axes>"
      ]
     },
     "metadata": {
      "needs_background": "light"
     },
     "output_type": "display_data"
    }
   ],
   "source": [
    "sns.displot(df['Helpfullness'],kind='hist',color = 'purple')"
   ]
  },
  {
   "cell_type": "code",
   "execution_count": 75,
   "id": "2be6ab73",
   "metadata": {
    "scrolled": true
   },
   "outputs": [
    {
     "data": {
      "text/plain": [
       "<AxesSubplot:title={'center':'Count of review by stars'}>"
      ]
     },
     "execution_count": 75,
     "metadata": {},
     "output_type": "execute_result"
    },
    {
     "data": {
      "image/png": "[encoded data removed]",
      "text/plain": [
       "<Figure size 720x360 with 1 Axes>"
      ]
     },
     "metadata": {
      "needs_background": "light"
     },
     "output_type": "display_data"
    }
   ],
   "source": [
    "df[\"Score\"].value_counts().sort_index().plot(kind='bar',title = \"Count of review by stars\",figsize = (10,5))"
   ]
  },
  {
   "cell_type": "code",
   "execution_count": 76,
   "id": "48f6bbbd",
   "metadata": {},
   "outputs": [],
   "source": [
    "df[\"word_count\"] = df[\"ReviewSummary\"].apply(lambda x : len(str(x.split())))"
   ]
  },
  {
   "cell_type": "code",
   "execution_count": 77,
   "id": "c65c71d7",
   "metadata": {},
   "outputs": [
    {
     "data": {
      "text/plain": [
       "Text(0.5, 1.0, 'Avg no. of words in Reviews vs Score')"
      ]
     },
     "execution_count": 77,
     "metadata": {},
     "output_type": "execute_result"
    },
    {
     "data": {
      "image/png": "[encoded data removed]",
      "text/plain": [
       "<Figure size 720x720 with 1 Axes>"
      ]
     },
     "metadata": {
      "needs_background": "light"
     },
     "output_type": "display_data"
    }
   ],
   "source": [
    "plt.figure(figsize=(10,10))\n",
    "sns.barplot(df[\"Score\"],df[\"word_count\"], data=df)\n",
    "plt.title(\"Avg no. of words in Reviews vs Score\")"
   ]
  },
  {
   "cell_type": "code",
   "execution_count": 78,
   "id": "37dcff9b",
   "metadata": {},
   "outputs": [],
   "source": [
    "# assign reviews with score > 3 as positive sentiment\n",
    "# score < 3 negative sentiment\n",
    "# remove score = 3\n",
    "df = df[df['Score'] != 3]\n",
    "df['sentiment'] = df['Score'].apply(lambda rating : 1 if rating > 3 else 0)"
   ]
  },
  {
   "cell_type": "code",
   "execution_count": 79,
   "id": "c1f5b579",
   "metadata": {
    "scrolled": false
   },
   "outputs": [
    {
     "data": {
      "text/html": [
       "<div>\n",
       "<style scoped>\n",
       "    .dataframe tbody tr th:only-of-type {\n",
       "        vertical-align: middle;\n",
       "    }\n",
       "\n",
       "    .dataframe tbody tr th {\n",
       "        vertical-align: top;\n",
       "    }\n",
       "\n",
       "    .dataframe thead th {\n",
       "        text-align: right;\n",
       "    }\n",
       "</style>\n",
       "<table border=\"1\" class=\"dataframe\">\n",
       "  <thead>\n",
       "    <tr style=\"text-align: right;\">\n",
       "      <th></th>\n",
       "      <th>ProductId</th>\n",
       "      <th>User_id</th>\n",
       "      <th>ProfileName</th>\n",
       "      <th>HelpfulnessNumerator</th>\n",
       "      <th>HelpfulnessDenominator</th>\n",
       "      <th>Score</th>\n",
       "      <th>Time</th>\n",
       "      <th>ReviewSummary</th>\n",
       "      <th>ReviewText</th>\n",
       "      <th>Helpfullness</th>\n",
       "      <th>word_count</th>\n",
       "      <th>sentiment</th>\n",
       "    </tr>\n",
       "  </thead>\n",
       "  <tbody>\n",
       "    <tr>\n",
       "      <th>0</th>\n",
       "      <td>B001E4KFG0</td>\n",
       "      <td>A3SGXH7AUHU8GW</td>\n",
       "      <td>delmartian</td>\n",
       "      <td>1</td>\n",
       "      <td>1</td>\n",
       "      <td>5</td>\n",
       "      <td>1303862400</td>\n",
       "      <td>good quality dog food</td>\n",
       "      <td>I have bought several of the Vitality canned ...</td>\n",
       "      <td>1.0</td>\n",
       "      <td>34</td>\n",
       "      <td>1</td>\n",
       "    </tr>\n",
       "    <tr>\n",
       "      <th>1</th>\n",
       "      <td>B00813GRG4</td>\n",
       "      <td>A1D87F6ZCVE5NK</td>\n",
       "      <td>dll pa</td>\n",
       "      <td>0</td>\n",
       "      <td>0</td>\n",
       "      <td>1</td>\n",
       "      <td>1346976000</td>\n",
       "      <td>advertise</td>\n",
       "      <td>Product arrived labeled as Jumbo Salted Peanu...</td>\n",
       "      <td>NaN</td>\n",
       "      <td>13</td>\n",
       "      <td>0</td>\n",
       "    </tr>\n",
       "    <tr>\n",
       "      <th>2</th>\n",
       "      <td>B000LQOCH0</td>\n",
       "      <td>ABXLMWJIXXAIN</td>\n",
       "      <td>Natalia Corres \"Natalia Corres\"</td>\n",
       "      <td>1</td>\n",
       "      <td>1</td>\n",
       "      <td>4</td>\n",
       "      <td>1219017600</td>\n",
       "      <td>delight say</td>\n",
       "      <td>This is a confection that has been around a f...</td>\n",
       "      <td>1.0</td>\n",
       "      <td>18</td>\n",
       "      <td>1</td>\n",
       "    </tr>\n",
       "    <tr>\n",
       "      <th>3</th>\n",
       "      <td>B000UA0QIQ</td>\n",
       "      <td>A395BORC6FGVXV</td>\n",
       "      <td>Karl</td>\n",
       "      <td>3</td>\n",
       "      <td>3</td>\n",
       "      <td>2</td>\n",
       "      <td>1307923200</td>\n",
       "      <td>cough medicine</td>\n",
       "      <td>If you are looking for the secret ingredient ...</td>\n",
       "      <td>1.0</td>\n",
       "      <td>21</td>\n",
       "      <td>0</td>\n",
       "    </tr>\n",
       "    <tr>\n",
       "      <th>4</th>\n",
       "      <td>B006K2ZZ7K</td>\n",
       "      <td>A1UQRSCLF8GW1T</td>\n",
       "      <td>Michael D. Bigham \"M. Wassir\"</td>\n",
       "      <td>0</td>\n",
       "      <td>0</td>\n",
       "      <td>5</td>\n",
       "      <td>1350777600</td>\n",
       "      <td>great taffy</td>\n",
       "      <td>Great taffy at a great price.  There was a wi...</td>\n",
       "      <td>NaN</td>\n",
       "      <td>18</td>\n",
       "      <td>1</td>\n",
       "    </tr>\n",
       "  </tbody>\n",
       "</table>\n",
       "</div>"
      ],
      "text/plain": [
       "     ProductId          User_id                       ProfileName  \\\n",
       "0   B001E4KFG0   A3SGXH7AUHU8GW                        delmartian   \n",
       "1   B00813GRG4   A1D87F6ZCVE5NK                            dll pa   \n",
       "2   B000LQOCH0    ABXLMWJIXXAIN   Natalia Corres \"Natalia Corres\"   \n",
       "3   B000UA0QIQ   A395BORC6FGVXV                              Karl   \n",
       "4   B006K2ZZ7K   A1UQRSCLF8GW1T     Michael D. Bigham \"M. Wassir\"   \n",
       "\n",
       "   HelpfulnessNumerator  HelpfulnessDenominator  Score        Time  \\\n",
       "0                     1                       1      5  1303862400   \n",
       "1                     0                       0      1  1346976000   \n",
       "2                     1                       1      4  1219017600   \n",
       "3                     3                       3      2  1307923200   \n",
       "4                     0                       0      5  1350777600   \n",
       "\n",
       "           ReviewSummary                                         ReviewText  \\\n",
       "0  good quality dog food   I have bought several of the Vitality canned ...   \n",
       "1              advertise   Product arrived labeled as Jumbo Salted Peanu...   \n",
       "2            delight say   This is a confection that has been around a f...   \n",
       "3         cough medicine   If you are looking for the secret ingredient ...   \n",
       "4            great taffy   Great taffy at a great price.  There was a wi...   \n",
       "\n",
       "   Helpfullness  word_count  sentiment  \n",
       "0           1.0          34          1  \n",
       "1           NaN          13          0  \n",
       "2           1.0          18          1  \n",
       "3           1.0          21          0  \n",
       "4           NaN          18          1  "
      ]
     },
     "execution_count": 79,
     "metadata": {},
     "output_type": "execute_result"
    }
   ],
   "source": [
    "df.head()"
   ]
  },
  {
   "cell_type": "code",
   "execution_count": 80,
   "id": "46de73b1",
   "metadata": {},
   "outputs": [],
   "source": [
    "# split df - positive and negative sentiment:\n",
    "positive = df[df['sentiment'] == 1]\n",
    "negative = df[df['sentiment'] == 0]"
   ]
  },
  {
   "cell_type": "code",
   "execution_count": 81,
   "id": "878b71b5",
   "metadata": {},
   "outputs": [],
   "source": [
    "positive = positive.dropna()\n",
    "negative = negative.dropna()"
   ]
  },
  {
   "cell_type": "code",
   "execution_count": 82,
   "id": "dc8ff8aa",
   "metadata": {
    "scrolled": true
   },
   "outputs": [
    {
     "data": {
      "image/png": "[encoded data removed]",
      "text/plain": [
       "<Figure size 432x288 with 1 Axes>"
      ]
     },
     "metadata": {
      "needs_background": "light"
     },
     "output_type": "display_data"
    }
   ],
   "source": [
    "import nltk\n",
    "from nltk.corpus import stopwords\n",
    "from wordcloud import WordCloud\n",
    "stopwords = set(stopwords.words('english'))\n",
    "stopwords.update([\"br\", \"stuff\", \"href\",\"good\",\"great\", \"taste\", \"product\", \"flavour\",\"like\", \"coffee\", \"dog\",\"flavor\",\"buy\"]) \n",
    "## good and great removed because they were included in negative sentiment\n",
    "pos = \" \".join(review for review in positive.ReviewSummary)\n",
    "wordcloud = WordCloud(stopwords=stopwords).generate(pos)\n",
    "plt.imshow(wordcloud, interpolation='bilinear')\n",
    "plt.axis(\"off\")\n",
    "plt.show()"
   ]
  },
  {
   "cell_type": "code",
   "execution_count": 83,
   "id": "9c1539a6",
   "metadata": {},
   "outputs": [],
   "source": [
    "top_10_positive = pd.Series(pos.split()).value_counts().sort_values(ascending = False).head(10)"
   ]
  },
  {
   "cell_type": "code",
   "execution_count": 84,
   "id": "89992747",
   "metadata": {},
   "outputs": [
    {
     "data": {
      "text/plain": [
       "great        561\n",
       "good         380\n",
       "best         285\n",
       "love         214\n",
       "coffee       190\n",
       "taste        147\n",
       "delicious    145\n",
       "product      124\n",
       "dog          113\n",
       "excellent    113\n",
       "dtype: int64"
      ]
     },
     "execution_count": 84,
     "metadata": {},
     "output_type": "execute_result"
    }
   ],
   "source": [
    "top_10_positive"
   ]
  },
  {
   "cell_type": "code",
   "execution_count": 85,
   "id": "e9864b24",
   "metadata": {},
   "outputs": [
    {
     "data": {
      "image/png": "[encoded data removed]",
      "text/plain": [
       "<Figure size 432x288 with 1 Axes>"
      ]
     },
     "metadata": {
      "needs_background": "light"
     },
     "output_type": "display_data"
    }
   ],
   "source": [
    "import nltk\n",
    "from nltk.corpus import stopwords\n",
    "stopwords = set(stopwords.words('english'))\n",
    "stopwords.update([\"br\", \"tastes\", \"href\",\"good\",\"great\", \"taste\", \"product\", \"flavour\",\"like\", \"coffee\", \"dog\",\"flavor\",\"buy\"]) \n",
    "\n",
    "neg = \" \".join(review for review in negative.ReviewSummary)\n",
    "wordcloud = WordCloud(stopwords=stopwords).generate(neg)\n",
    "plt.imshow(wordcloud, interpolation='bilinear')\n",
    "plt.axis(\"off\")\n",
    "plt.show()"
   ]
  },
  {
   "cell_type": "code",
   "execution_count": 86,
   "id": "1d2db1c7",
   "metadata": {},
   "outputs": [],
   "source": [
    "top_10_neg = pd.Series(neg.split()).value_counts().sort_values(ascending = False).head(10)"
   ]
  },
  {
   "cell_type": "code",
   "execution_count": 87,
   "id": "a6b493f8",
   "metadata": {
    "scrolled": true
   },
   "outputs": [
    {
     "data": {
      "text/plain": [
       "taste         79\n",
       "flavor        51\n",
       "good          46\n",
       "coffee        42\n",
       "like          41\n",
       "product       34\n",
       "disappoint    31\n",
       "bad           27\n",
       "dont          25\n",
       "price         22\n",
       "dtype: int64"
      ]
     },
     "execution_count": 87,
     "metadata": {},
     "output_type": "execute_result"
    }
   ],
   "source": [
    "top_10_neg"
   ]
  },
  {
   "cell_type": "code",
   "execution_count": 88,
   "id": "4ec51436",
   "metadata": {},
   "outputs": [
    {
     "data": {
      "text/html": [
       "<div>\n",
       "<style scoped>\n",
       "    .dataframe tbody tr th:only-of-type {\n",
       "        vertical-align: middle;\n",
       "    }\n",
       "\n",
       "    .dataframe tbody tr th {\n",
       "        vertical-align: top;\n",
       "    }\n",
       "\n",
       "    .dataframe thead th {\n",
       "        text-align: right;\n",
       "    }\n",
       "</style>\n",
       "<table border=\"1\" class=\"dataframe\">\n",
       "  <thead>\n",
       "    <tr style=\"text-align: right;\">\n",
       "      <th></th>\n",
       "      <th>ProductId</th>\n",
       "      <th>User_id</th>\n",
       "      <th>ProfileName</th>\n",
       "      <th>HelpfulnessNumerator</th>\n",
       "      <th>HelpfulnessDenominator</th>\n",
       "      <th>Score</th>\n",
       "      <th>Time</th>\n",
       "      <th>ReviewSummary</th>\n",
       "      <th>ReviewText</th>\n",
       "      <th>Helpfullness</th>\n",
       "      <th>word_count</th>\n",
       "      <th>sentiment</th>\n",
       "    </tr>\n",
       "  </thead>\n",
       "  <tbody>\n",
       "    <tr>\n",
       "      <th>0</th>\n",
       "      <td>B001E4KFG0</td>\n",
       "      <td>A3SGXH7AUHU8GW</td>\n",
       "      <td>delmartian</td>\n",
       "      <td>1</td>\n",
       "      <td>1</td>\n",
       "      <td>5</td>\n",
       "      <td>1303862400</td>\n",
       "      <td>good quality dog food</td>\n",
       "      <td>I have bought several of the Vitality canned ...</td>\n",
       "      <td>1.0</td>\n",
       "      <td>34</td>\n",
       "      <td>1</td>\n",
       "    </tr>\n",
       "    <tr>\n",
       "      <th>1</th>\n",
       "      <td>B00813GRG4</td>\n",
       "      <td>A1D87F6ZCVE5NK</td>\n",
       "      <td>dll pa</td>\n",
       "      <td>0</td>\n",
       "      <td>0</td>\n",
       "      <td>1</td>\n",
       "      <td>1346976000</td>\n",
       "      <td>advertise</td>\n",
       "      <td>Product arrived labeled as Jumbo Salted Peanu...</td>\n",
       "      <td>NaN</td>\n",
       "      <td>13</td>\n",
       "      <td>0</td>\n",
       "    </tr>\n",
       "    <tr>\n",
       "      <th>2</th>\n",
       "      <td>B000LQOCH0</td>\n",
       "      <td>ABXLMWJIXXAIN</td>\n",
       "      <td>Natalia Corres \"Natalia Corres\"</td>\n",
       "      <td>1</td>\n",
       "      <td>1</td>\n",
       "      <td>4</td>\n",
       "      <td>1219017600</td>\n",
       "      <td>delight say</td>\n",
       "      <td>This is a confection that has been around a f...</td>\n",
       "      <td>1.0</td>\n",
       "      <td>18</td>\n",
       "      <td>1</td>\n",
       "    </tr>\n",
       "    <tr>\n",
       "      <th>3</th>\n",
       "      <td>B000UA0QIQ</td>\n",
       "      <td>A395BORC6FGVXV</td>\n",
       "      <td>Karl</td>\n",
       "      <td>3</td>\n",
       "      <td>3</td>\n",
       "      <td>2</td>\n",
       "      <td>1307923200</td>\n",
       "      <td>cough medicine</td>\n",
       "      <td>If you are looking for the secret ingredient ...</td>\n",
       "      <td>1.0</td>\n",
       "      <td>21</td>\n",
       "      <td>0</td>\n",
       "    </tr>\n",
       "    <tr>\n",
       "      <th>4</th>\n",
       "      <td>B006K2ZZ7K</td>\n",
       "      <td>A1UQRSCLF8GW1T</td>\n",
       "      <td>Michael D. Bigham \"M. Wassir\"</td>\n",
       "      <td>0</td>\n",
       "      <td>0</td>\n",
       "      <td>5</td>\n",
       "      <td>1350777600</td>\n",
       "      <td>great taffy</td>\n",
       "      <td>Great taffy at a great price.  There was a wi...</td>\n",
       "      <td>NaN</td>\n",
       "      <td>18</td>\n",
       "      <td>1</td>\n",
       "    </tr>\n",
       "  </tbody>\n",
       "</table>\n",
       "</div>"
      ],
      "text/plain": [
       "     ProductId          User_id                       ProfileName  \\\n",
       "0   B001E4KFG0   A3SGXH7AUHU8GW                        delmartian   \n",
       "1   B00813GRG4   A1D87F6ZCVE5NK                            dll pa   \n",
       "2   B000LQOCH0    ABXLMWJIXXAIN   Natalia Corres \"Natalia Corres\"   \n",
       "3   B000UA0QIQ   A395BORC6FGVXV                              Karl   \n",
       "4   B006K2ZZ7K   A1UQRSCLF8GW1T     Michael D. Bigham \"M. Wassir\"   \n",
       "\n",
       "   HelpfulnessNumerator  HelpfulnessDenominator  Score        Time  \\\n",
       "0                     1                       1      5  1303862400   \n",
       "1                     0                       0      1  1346976000   \n",
       "2                     1                       1      4  1219017600   \n",
       "3                     3                       3      2  1307923200   \n",
       "4                     0                       0      5  1350777600   \n",
       "\n",
       "           ReviewSummary                                         ReviewText  \\\n",
       "0  good quality dog food   I have bought several of the Vitality canned ...   \n",
       "1              advertise   Product arrived labeled as Jumbo Salted Peanu...   \n",
       "2            delight say   This is a confection that has been around a f...   \n",
       "3         cough medicine   If you are looking for the secret ingredient ...   \n",
       "4            great taffy   Great taffy at a great price.  There was a wi...   \n",
       "\n",
       "   Helpfullness  word_count  sentiment  \n",
       "0           1.0          34          1  \n",
       "1           NaN          13          0  \n",
       "2           1.0          18          1  \n",
       "3           1.0          21          0  \n",
       "4           NaN          18          1  "
      ]
     },
     "execution_count": 88,
     "metadata": {},
     "output_type": "execute_result"
    }
   ],
   "source": [
    "df.head()"
   ]
  },
  {
   "cell_type": "code",
   "execution_count": 89,
   "id": "58047deb",
   "metadata": {},
   "outputs": [],
   "source": [
    "df[\"sentiment\"] = df[\"sentiment\"].replace({1:'Positive',0:'Negative'})"
   ]
  },
  {
   "cell_type": "code",
   "execution_count": 90,
   "id": "3c6b0f2e",
   "metadata": {
    "scrolled": false
   },
   "outputs": [
    {
     "data": {
      "text/plain": [
       "Text(0.5, 1.0, 'Sentiment')"
      ]
     },
     "execution_count": 90,
     "metadata": {},
     "output_type": "execute_result"
    },
    {
     "data": {
      "image/png": "[encoded data removed]",
      "text/plain": [
       "<Figure size 504x360 with 1 Axes>"
      ]
     },
     "metadata": {
      "needs_background": "light"
     },
     "output_type": "display_data"
    }
   ],
   "source": [
    "plt.figure(figsize=(7,5))\n",
    "sns.barplot(df[\"sentiment\"],df[\"word_count\"], data=df)\n",
    "plt.title(\"Sentiment\")"
   ]
  },
  {
   "cell_type": "code",
   "execution_count": 91,
   "id": "a09456ab",
   "metadata": {},
   "outputs": [
    {
     "data": {
      "text/plain": [
       "(9137, 12)"
      ]
     },
     "execution_count": 91,
     "metadata": {},
     "output_type": "execute_result"
    }
   ],
   "source": [
    "df.shape"
   ]
  }
 ],
 "metadata": {
  "kernelspec": {
   "display_name": "Python 3 (ipykernel)",
   "language": "python",
   "name": "python3"
  },
  "language_info": {
   "codemirror_mode": {
    "name": "ipython",
    "version": 3
   },
   "file_extension": ".py",
   "mimetype": "text/x-python",
   "name": "python",
   "nbconvert_exporter": "python",
   "pygments_lexer": "ipython3",
   "version": "3.9.12"
  }
 },
 "nbformat": 4,
 "nbformat_minor": 5
}
